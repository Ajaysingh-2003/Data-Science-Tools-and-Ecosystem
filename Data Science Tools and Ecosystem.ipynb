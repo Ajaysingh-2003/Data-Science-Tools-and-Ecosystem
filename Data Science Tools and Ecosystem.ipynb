{
 "cells": [
  {
   "cell_type": "markdown",
   "id": "4f74fc7b",
   "metadata": {},
   "source": [
    "# Data Science Tools and Ecosystem"
   ]
  },
  {
   "cell_type": "markdown",
   "id": "36c9a6f2",
   "metadata": {},
   "source": [
    "#### In this notebook, Data Science Tools and Ecosystem are summarized."
   ]
  },
  {
   "cell_type": "markdown",
   "id": "fb1fb7fd",
   "metadata": {},
   "source": [
    "### Some of the popular languages that Data Scientists use are:\n",
    "<ol>\n",
    "  <li>Python</li>\n",
    "    <li>Julia</li>\n",
    "  <li>R</li>\n",
    "</ol>"
   ]
  },
  {
   "cell_type": "markdown",
   "id": "0b5af79d",
   "metadata": {},
   "source": [
    "### Some of the commonly used libraries used by Data Scientists include:\n",
    "<ol>\n",
    "    <li>Numpy</li>\n",
    "    <li>Matplotlib</li>\n",
    "    <li>Seaborn</li>\n",
    "    <li>Folium</li>\n",
    "</ol>    "
   ]
  },
  {
   "cell_type": "markdown",
   "id": "bc0e5039",
   "metadata": {},
   "source": [
    "|Data Science|\n",
    "|------------|\n",
    "|Jupyter Notebook|\n",
    "|R studio|\n",
    "|Hadoop|"
   ]
  },
  {
   "cell_type": "markdown",
   "id": "d05660b3",
   "metadata": {},
   "source": [
    "### Below are a few examples of evaluating arithmetic expressions in Python.\n",
    "a+b\n",
    "a-b\n",
    "a*b\n",
    "a/b\n",
    "a//b\n",
    "a%b"
   ]
  },
  {
   "cell_type": "code",
   "execution_count": 2,
   "id": "b09c0694",
   "metadata": {},
   "outputs": [
    {
     "data": {
      "text/plain": [
       "17"
      ]
     },
     "execution_count": 2,
     "metadata": {},
     "output_type": "execute_result"
    }
   ],
   "source": [
    "#This a simple arithmetic expression to mutiply then add integers\n",
    "(3*4)+5"
   ]
  },
  {
   "cell_type": "code",
   "execution_count": 3,
   "id": "e561e168",
   "metadata": {},
   "outputs": [
    {
     "data": {
      "text/plain": [
       "3.3333333333333335"
      ]
     },
     "execution_count": 3,
     "metadata": {},
     "output_type": "execute_result"
    }
   ],
   "source": [
    "#This will convert 200 minutes to hours by diving by 60\n",
    "a=200\n",
    "b=200/60\n",
    "b"
   ]
  },
  {
   "cell_type": "markdown",
   "id": "e70261e2",
   "metadata": {},
   "source": [
    "__List popular languages for Data Science__\n",
    "<ul>\n",
    "    <li>Python</li>\n",
    "    <li>R</li>\n",
    "    <li>Julia</li>\n",
    "    <li>C++</li>\n",
    "</ul>    "
   ]
  },
  {
   "cell_type": "markdown",
   "id": "86d04e70",
   "metadata": {},
   "source": [
    "## Author\n",
    "Ajay Singh"
   ]
  },
  {
   "cell_type": "code",
   "execution_count": null,
   "id": "d99960fe",
   "metadata": {},
   "outputs": [],
   "source": []
  }
 ],
 "metadata": {
  "kernelspec": {
   "display_name": "Python 3 (ipykernel)",
   "language": "python",
   "name": "python3"
  },
  "language_info": {
   "codemirror_mode": {
    "name": "ipython",
    "version": 3
   },
   "file_extension": ".py",
   "mimetype": "text/x-python",
   "name": "python",
   "nbconvert_exporter": "python",
   "pygments_lexer": "ipython3",
   "version": "3.11.5"
  }
 },
 "nbformat": 4,
 "nbformat_minor": 5
}
